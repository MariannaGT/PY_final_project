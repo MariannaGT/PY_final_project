{
 "cells": [
  {
   "cell_type": "markdown",
   "id": "4a4b88d8",
   "metadata": {},
   "source": [
    "**Jupyter Notebook и несколько слов об аналитике**"
   ]
  },
  {
   "cell_type": "markdown",
   "id": "8a72aa1c",
   "metadata": {},
   "source": [
    "f(x) = (sin(x)/2 + cos(x)/2) ** 2 * sin(x)"
   ]
  },
  {
   "cell_type": "markdown",
   "id": "36872444",
   "metadata": {},
   "source": [
    "1. Определить корни"
   ]
  },
  {
   "cell_type": "code",
   "execution_count": 3,
   "id": "7446ae15",
   "metadata": {},
   "outputs": [],
   "source": [
    "from sympy import Symbol\n",
    "from sympy import sqrt, solve, solveset, diff, plot, is_increasing, Interval, oo, S\n",
    "from sympy import sin, cos, pi, simplify, periodicity, evalf\n",
    "from sympy import minimum, maximum "
   ]
  },
  {
   "cell_type": "code",
   "execution_count": 4,
   "id": "77c42028",
   "metadata": {},
   "outputs": [
    {
     "data": {
      "text/latex": [
       "$\\displaystyle \\frac{\\sin{\\left(x \\right)} \\sin^{2}{\\left(x + \\frac{\\pi}{4} \\right)}}{2}$"
      ],
      "text/plain": [
       "sin(x)*sin(x + pi/4)**2/2"
      ]
     },
     "execution_count": 4,
     "metadata": {},
     "output_type": "execute_result"
    }
   ],
   "source": [
    "x = Symbol('x', real = True)\n",
    "y = simplify((sin(x)/2 + cos(x)/2)**2 * sin(x))\n",
    "y"
   ]
  },
  {
   "cell_type": "code",
   "execution_count": 5,
   "id": "e651f016",
   "metadata": {},
   "outputs": [
    {
     "data": {
      "text/plain": [
       "[0, -pi/4, 3*pi/4, pi]"
      ]
     },
     "execution_count": 5,
     "metadata": {},
     "output_type": "execute_result"
    }
   ],
   "source": [
    "solve(y, x)"
   ]
  },
  {
   "cell_type": "markdown",
   "id": "9036c9fa",
   "metadata": {},
   "source": [
    "2. Найти интервалы, на которых функция возрастает"
   ]
  },
  {
   "cell_type": "code",
   "execution_count": 6,
   "id": "23bce997",
   "metadata": {},
   "outputs": [
    {
     "data": {
      "text/latex": [
       "$\\displaystyle \\sin{\\left(x \\right)} \\sin{\\left(x + \\frac{\\pi}{4} \\right)} \\cos{\\left(x + \\frac{\\pi}{4} \\right)} + \\frac{\\sin^{2}{\\left(x + \\frac{\\pi}{4} \\right)} \\cos{\\left(x \\right)}}{2}$"
      ],
      "text/plain": [
       "sin(x)*sin(x + pi/4)*cos(x + pi/4) + sin(x + pi/4)**2*cos(x)/2"
      ]
     },
     "execution_count": 6,
     "metadata": {},
     "output_type": "execute_result"
    }
   ],
   "source": [
    "derivate = diff(y)\n",
    "derivate"
   ]
  },
  {
   "cell_type": "code",
   "execution_count": 7,
   "id": "30d84efb",
   "metadata": {},
   "outputs": [
    {
     "data": {
      "text/latex": [
       "$\\displaystyle 2 \\pi$"
      ],
      "text/plain": [
       "2*pi"
      ]
     },
     "execution_count": 7,
     "metadata": {},
     "output_type": "execute_result"
    }
   ],
   "source": [
    "periodicity(y, x)"
   ]
  },
  {
   "cell_type": "code",
   "execution_count": 22,
   "id": "87f23696",
   "metadata": {},
   "outputs": [
    {
     "data": {
      "text/latex": [
       "$\\displaystyle \\frac{\\sin{\\left(10 \\right)} \\sin^{2}{\\left(\\frac{\\pi}{4} + 10 \\right)}}{2}$"
      ],
      "text/plain": [
       "sin(10)*sin(pi/4 + 10)**2/2"
      ]
     },
     "execution_count": 22,
     "metadata": {},
     "output_type": "execute_result"
    }
   ],
   "source": [
    "y.subs(x, 10+2*pi)"
   ]
  },
  {
   "cell_type": "code",
   "execution_count": 23,
   "id": "08b7e5cf",
   "metadata": {},
   "outputs": [
    {
     "data": {
      "text/latex": [
       "$\\displaystyle 0 \\leq x \\wedge x \\leq 2 \\pi \\wedge \\left(x = 0 \\vee x = \\frac{3 \\pi}{4} \\vee x = \\pi \\vee x = \\frac{7 \\pi}{4}\\right)$"
      ],
      "text/plain": [
       "(0 <= x) & (x <= 2*pi) & (Eq(x, 0) | Eq(x, pi) | Eq(x, 3*pi/4) | Eq(x, 7*pi/4))"
      ]
     },
     "execution_count": 23,
     "metadata": {},
     "output_type": "execute_result"
    }
   ],
   "source": [
    "solve([x >=0, x <= periodicity(y, x), y], x)"
   ]
  },
  {
   "cell_type": "markdown",
   "id": "08efe6d5",
   "metadata": {},
   "source": [
    "3. Найти интервалы, на которых функция убывает"
   ]
  },
  {
   "cell_type": "code",
   "execution_count": 29,
   "id": "bd2b7e79",
   "metadata": {},
   "outputs": [
    {
     "data": {
      "text/latex": [
       "$\\displaystyle x \\leq 0 \\wedge \\left(x = 0 \\vee x = \\frac{3 \\pi}{4} \\vee x = \\pi \\vee x = \\frac{7 \\pi}{4}\\right)$"
      ],
      "text/plain": [
       "(x <= 0) & (Eq(x, 0) | Eq(x, pi) | Eq(x, 3*pi/4) | Eq(x, 7*pi/4))"
      ]
     },
     "execution_count": 29,
     "metadata": {},
     "output_type": "execute_result"
    }
   ],
   "source": [
    "solve([x <=0, x <= periodicity(y, x), y], x)"
   ]
  },
  {
   "cell_type": "markdown",
   "id": "374cc359",
   "metadata": {},
   "source": [
    "4. Построить график"
   ]
  },
  {
   "cell_type": "code",
   "execution_count": 36,
   "id": "3ab9d1df",
   "metadata": {},
   "outputs": [
    {
     "data": {
      "image/png": "[encoded data removed]",
      "text/plain": [
       "<Figure size 640x480 with 1 Axes>"
      ]
     },
     "metadata": {},
     "output_type": "display_data"
    }
   ],
   "source": [
    "grafic = plot(y, (x, -pi, pi))"
   ]
  },
  {
   "cell_type": "markdown",
   "id": "9fddb6d8",
   "metadata": {},
   "source": [
    "5. Вычислить вершину"
   ]
  },
  {
   "cell_type": "code",
   "execution_count": 26,
   "id": "5dbc0cee",
   "metadata": {},
   "outputs": [
    {
     "name": "stdout",
     "output_type": "stream",
     "text": [
      "y_max = 0.404\n",
      "y_min = -0.404\n"
     ]
    }
   ],
   "source": [
    "y_max = maximum(y, x, Interval (-pi, pi)).evalf()\n",
    "y_min = minimum(y, x, Interval (-pi, pi)).evalf()\n",
    "\n",
    "print('y_max =', round(y_max, 3))\n",
    "print('y_min =', round(y_min, 3))"
   ]
  },
  {
   "cell_type": "markdown",
   "id": "545a1abf",
   "metadata": {},
   "source": [
    "6. Определить промежутки, на котором f > 0"
   ]
  },
  {
   "cell_type": "code",
   "execution_count": 27,
   "id": "d9fd6312",
   "metadata": {},
   "outputs": [
    {
     "data": {
      "text/latex": [
       "$\\displaystyle \\left(0, \\frac{3 \\pi}{4}\\right) \\cup \\left(\\frac{3 \\pi}{4}, \\pi\\right)$"
      ],
      "text/plain": [
       "Union(Interval.open(0, 3*pi/4), Interval.open(3*pi/4, pi))"
      ]
     },
     "execution_count": 27,
     "metadata": {},
     "output_type": "execute_result"
    }
   ],
   "source": [
    "solveset(y>0, x, S.Reals)"
   ]
  },
  {
   "cell_type": "markdown",
   "id": "754c327e",
   "metadata": {},
   "source": [
    "7. Определить промежутки, на котором f < 0"
   ]
  },
  {
   "cell_type": "code",
   "execution_count": 28,
   "id": "98743583",
   "metadata": {},
   "outputs": [
    {
     "data": {
      "text/latex": [
       "$\\displaystyle \\left(\\pi, \\frac{7 \\pi}{4}\\right) \\cup \\left(\\frac{7 \\pi}{4}, 2 \\pi\\right)$"
      ],
      "text/plain": [
       "Union(Interval.open(pi, 7*pi/4), Interval.open(7*pi/4, 2*pi))"
      ]
     },
     "execution_count": 28,
     "metadata": {},
     "output_type": "execute_result"
    }
   ],
   "source": [
    "solveset(y< 0, x, S.Reals)"
   ]
  },
  {
   "cell_type": "code",
   "execution_count": null,
   "id": "23d7451b",
   "metadata": {},
   "outputs": [],
   "source": []
  }
 ],
 "metadata": {
  "kernelspec": {
   "display_name": "Python 3 (ipykernel)",
   "language": "python",
   "name": "python3"
  },
  "language_info": {
   "codemirror_mode": {
    "name": "ipython",
    "version": 3
   },
   "file_extension": ".py",
   "mimetype": "text/x-python",
   "name": "python",
   "nbconvert_exporter": "python",
   "pygments_lexer": "ipython3",
   "version": "3.9.13"
  }
 },
 "nbformat": 4,
 "nbformat_minor": 5
}
